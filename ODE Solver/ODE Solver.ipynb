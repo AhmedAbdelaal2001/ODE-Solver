{
 "cells": [
  {
   "cell_type": "code",
   "execution_count": 1,
   "id": "3f543d9c",
   "metadata": {},
   "outputs": [],
   "source": [
    "from utilsODE import *\n",
    "from input_output import *\n",
    "import matplotlib.pyplot as plt"
   ]
  },
  {
   "cell_type": "markdown",
   "id": "63d681a7",
   "metadata": {},
   "source": [
    "Note: when entering the expression of the ODE, write yp1 to input a first derivative, yp2 to input a second derivative,\n",
    "yp3 to input a third derivative, and so on.\n",
    "\n",
    "Example: to input the differential equation d3y/dx3 = d2y/dx2 + dy/dx + y + x, enter the value '3' when you are asked to enter the order of the ODE, and enter 'yp2 + yp1 + y + x' when you are asked to enter the expression of the highest order derivative."
   ]
  },
  {
   "cell_type": "code",
   "execution_count": 2,
   "id": "64bfcc7f",
   "metadata": {},
   "outputs": [
    {
     "name": "stdout",
     "output_type": "stream",
     "text": [
      "Enter the order of the differential equation you wish to solve: 3\n",
      "Enter the expression for the highest order derivative: -yp2 - yp1 - y - x\n",
      "Enter the initial value of x: 0\n",
      "Enter the initial value of y: 3\n",
      "Enter the initial value of derivative 1 of y: -1\n",
      "Enter the initial value of derivative 2 of y: 0\n",
      "Enter the final value of x: 5\n",
      "Enter the value of h: 0.2\n",
      "Enter the step size of the output: 0.2\n"
     ]
    }
   ],
   "source": [
    "x, y, xf, h, xout_step, expression = getUserInput()"
   ]
  },
  {
   "cell_type": "code",
   "execution_count": 3,
   "id": "dd174711",
   "metadata": {},
   "outputs": [],
   "source": [
    "xout, yout = solveODE(x, y, xf, h, xout_step, expression)"
   ]
  },
  {
   "cell_type": "code",
   "execution_count": 4,
   "id": "9c42d77a",
   "metadata": {},
   "outputs": [
    {
     "data": {
      "text/plain": [
       "[<matplotlib.lines.Line2D at 0x12dbc2e4850>]"
      ]
     },
     "execution_count": 4,
     "metadata": {},
     "output_type": "execute_result"
    },
    {
     "data": {
      "image/png": "[encoded data removed]",
      "text/plain": [
       "<Figure size 432x288 with 1 Axes>"
      ]
     },
     "metadata": {
      "needs_background": "light"
     },
     "output_type": "display_data"
    }
   ],
   "source": [
    "plt.plot(xout, yout, c='b')"
   ]
  }
 ],
 "metadata": {
  "kernelspec": {
   "display_name": "Python 3 (ipykernel)",
   "language": "python",
   "name": "python3"
  },
  "language_info": {
   "codemirror_mode": {
    "name": "ipython",
    "version": 3
   },
   "file_extension": ".py",
   "mimetype": "text/x-python",
   "name": "python",
   "nbconvert_exporter": "python",
   "pygments_lexer": "ipython3",
   "version": "3.9.12"
  }
 },
 "nbformat": 4,
 "nbformat_minor": 5
}
